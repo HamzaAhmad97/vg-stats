{
 "cells": [
  {
   "cell_type": "markdown",
   "metadata": {},
   "source": [
    "# Data Analysis with Pandas\n",
    "\n",
    "## Date set: Video games sales\n",
    "\n",
    "## Authon: Hamza Ahmad - Oct 25, 2021"
   ]
  },
  {
   "cell_type": "code",
   "execution_count": 33,
   "metadata": {},
   "outputs": [
    {
     "data": {
      "text/html": [
       "<div>\n",
       "<style scoped>\n",
       "    .dataframe tbody tr th:only-of-type {\n",
       "        vertical-align: middle;\n",
       "    }\n",
       "\n",
       "    .dataframe tbody tr th {\n",
       "        vertical-align: top;\n",
       "    }\n",
       "\n",
       "    .dataframe thead th {\n",
       "        text-align: right;\n",
       "    }\n",
       "</style>\n",
       "<table border=\"1\" class=\"dataframe\">\n",
       "  <thead>\n",
       "    <tr style=\"text-align: right;\">\n",
       "      <th></th>\n",
       "      <th>Rank</th>\n",
       "      <th>Name</th>\n",
       "      <th>Platform</th>\n",
       "      <th>Year</th>\n",
       "      <th>Genre</th>\n",
       "      <th>Publisher</th>\n",
       "      <th>NA_Sales</th>\n",
       "      <th>EU_Sales</th>\n",
       "      <th>JP_Sales</th>\n",
       "      <th>Other_Sales</th>\n",
       "      <th>Global_Sales</th>\n",
       "    </tr>\n",
       "  </thead>\n",
       "  <tbody>\n",
       "    <tr>\n",
       "      <th>0</th>\n",
       "      <td>1</td>\n",
       "      <td>Wii Sports</td>\n",
       "      <td>Wii</td>\n",
       "      <td>2006.0</td>\n",
       "      <td>Sports</td>\n",
       "      <td>Nintendo</td>\n",
       "      <td>41.49</td>\n",
       "      <td>29.02</td>\n",
       "      <td>3.77</td>\n",
       "      <td>8.46</td>\n",
       "      <td>82.74</td>\n",
       "    </tr>\n",
       "    <tr>\n",
       "      <th>1</th>\n",
       "      <td>2</td>\n",
       "      <td>Super Mario Bros.</td>\n",
       "      <td>NES</td>\n",
       "      <td>1985.0</td>\n",
       "      <td>Platform</td>\n",
       "      <td>Nintendo</td>\n",
       "      <td>29.08</td>\n",
       "      <td>3.58</td>\n",
       "      <td>6.81</td>\n",
       "      <td>0.77</td>\n",
       "      <td>40.24</td>\n",
       "    </tr>\n",
       "    <tr>\n",
       "      <th>2</th>\n",
       "      <td>3</td>\n",
       "      <td>Mario Kart Wii</td>\n",
       "      <td>Wii</td>\n",
       "      <td>2008.0</td>\n",
       "      <td>Racing</td>\n",
       "      <td>Nintendo</td>\n",
       "      <td>15.85</td>\n",
       "      <td>12.88</td>\n",
       "      <td>3.79</td>\n",
       "      <td>3.31</td>\n",
       "      <td>35.82</td>\n",
       "    </tr>\n",
       "    <tr>\n",
       "      <th>3</th>\n",
       "      <td>4</td>\n",
       "      <td>Wii Sports Resort</td>\n",
       "      <td>Wii</td>\n",
       "      <td>2009.0</td>\n",
       "      <td>Sports</td>\n",
       "      <td>Nintendo</td>\n",
       "      <td>15.75</td>\n",
       "      <td>11.01</td>\n",
       "      <td>3.28</td>\n",
       "      <td>2.96</td>\n",
       "      <td>33.00</td>\n",
       "    </tr>\n",
       "    <tr>\n",
       "      <th>4</th>\n",
       "      <td>5</td>\n",
       "      <td>Pokemon Red/Pokemon Blue</td>\n",
       "      <td>GB</td>\n",
       "      <td>1996.0</td>\n",
       "      <td>Role-Playing</td>\n",
       "      <td>Nintendo</td>\n",
       "      <td>11.27</td>\n",
       "      <td>8.89</td>\n",
       "      <td>10.22</td>\n",
       "      <td>1.00</td>\n",
       "      <td>31.37</td>\n",
       "    </tr>\n",
       "  </tbody>\n",
       "</table>\n",
       "</div>"
      ],
      "text/plain": [
       "   Rank                      Name Platform    Year         Genre Publisher  \\\n",
       "0     1                Wii Sports      Wii  2006.0        Sports  Nintendo   \n",
       "1     2         Super Mario Bros.      NES  1985.0      Platform  Nintendo   \n",
       "2     3            Mario Kart Wii      Wii  2008.0        Racing  Nintendo   \n",
       "3     4         Wii Sports Resort      Wii  2009.0        Sports  Nintendo   \n",
       "4     5  Pokemon Red/Pokemon Blue       GB  1996.0  Role-Playing  Nintendo   \n",
       "\n",
       "   NA_Sales  EU_Sales  JP_Sales  Other_Sales  Global_Sales  \n",
       "0     41.49     29.02      3.77         8.46         82.74  \n",
       "1     29.08      3.58      6.81         0.77         40.24  \n",
       "2     15.85     12.88      3.79         3.31         35.82  \n",
       "3     15.75     11.01      3.28         2.96         33.00  \n",
       "4     11.27      8.89     10.22         1.00         31.37  "
      ]
     },
     "execution_count": 33,
     "metadata": {},
     "output_type": "execute_result"
    }
   ],
   "source": [
    "import pandas as pd\n",
    "vg = pd.read_csv('./vgsales.csv')\n",
    "vg.head()"
   ]
  },
  {
   "cell_type": "markdown",
   "metadata": {},
   "source": [
    "1. Which company is the most common video game publisher?\n",
    "\n",
    "*Electronic Arts*"
   ]
  },
  {
   "cell_type": "code",
   "execution_count": 34,
   "metadata": {},
   "outputs": [
    {
     "data": {
      "text/plain": [
       "Publisher\n",
       "Electronic Arts    1351\n",
       "dtype: int64"
      ]
     },
     "execution_count": 34,
     "metadata": {},
     "output_type": "execute_result"
    }
   ],
   "source": [
    "vg.value_counts('Publisher').head(1)"
   ]
  },
  {
   "cell_type": "markdown",
   "metadata": {},
   "source": [
    "2. What’s the most common platform?\n",
    "\n",
    "*DS*"
   ]
  },
  {
   "cell_type": "code",
   "execution_count": 35,
   "metadata": {},
   "outputs": [
    {
     "data": {
      "text/plain": [
       "Platform\n",
       "DS    2163\n",
       "dtype: int64"
      ]
     },
     "execution_count": 35,
     "metadata": {},
     "output_type": "execute_result"
    }
   ],
   "source": [
    "vg.value_counts('Platform').head(1)"
   ]
  },
  {
   "cell_type": "markdown",
   "metadata": {},
   "source": [
    "3. What about the most common genre?\n",
    "\n",
    "*Action*"
   ]
  },
  {
   "cell_type": "code",
   "execution_count": 36,
   "metadata": {},
   "outputs": [
    {
     "data": {
      "text/plain": [
       "Genre\n",
       "Action    3316\n",
       "dtype: int64"
      ]
     },
     "execution_count": 36,
     "metadata": {},
     "output_type": "execute_result"
    }
   ],
   "source": [
    "vg.value_counts('Genre').head(1)"
   ]
  },
  {
   "cell_type": "markdown",
   "metadata": {},
   "source": [
    "4. What are the top 20 highest grossing games?"
   ]
  },
  {
   "cell_type": "code",
   "execution_count": 37,
   "metadata": {},
   "outputs": [
    {
     "data": {
      "text/html": [
       "<div>\n",
       "<style scoped>\n",
       "    .dataframe tbody tr th:only-of-type {\n",
       "        vertical-align: middle;\n",
       "    }\n",
       "\n",
       "    .dataframe tbody tr th {\n",
       "        vertical-align: top;\n",
       "    }\n",
       "\n",
       "    .dataframe thead th {\n",
       "        text-align: right;\n",
       "    }\n",
       "</style>\n",
       "<table border=\"1\" class=\"dataframe\">\n",
       "  <thead>\n",
       "    <tr style=\"text-align: right;\">\n",
       "      <th></th>\n",
       "      <th>Global_Sales</th>\n",
       "      <th>Name</th>\n",
       "    </tr>\n",
       "  </thead>\n",
       "  <tbody>\n",
       "    <tr>\n",
       "      <th>0</th>\n",
       "      <td>82.74</td>\n",
       "      <td>Wii Sports</td>\n",
       "    </tr>\n",
       "    <tr>\n",
       "      <th>1</th>\n",
       "      <td>40.24</td>\n",
       "      <td>Super Mario Bros.</td>\n",
       "    </tr>\n",
       "    <tr>\n",
       "      <th>2</th>\n",
       "      <td>35.82</td>\n",
       "      <td>Mario Kart Wii</td>\n",
       "    </tr>\n",
       "    <tr>\n",
       "      <th>3</th>\n",
       "      <td>33.00</td>\n",
       "      <td>Wii Sports Resort</td>\n",
       "    </tr>\n",
       "    <tr>\n",
       "      <th>4</th>\n",
       "      <td>31.37</td>\n",
       "      <td>Pokemon Red/Pokemon Blue</td>\n",
       "    </tr>\n",
       "    <tr>\n",
       "      <th>5</th>\n",
       "      <td>30.26</td>\n",
       "      <td>Tetris</td>\n",
       "    </tr>\n",
       "    <tr>\n",
       "      <th>6</th>\n",
       "      <td>30.01</td>\n",
       "      <td>New Super Mario Bros.</td>\n",
       "    </tr>\n",
       "    <tr>\n",
       "      <th>7</th>\n",
       "      <td>29.02</td>\n",
       "      <td>Wii Play</td>\n",
       "    </tr>\n",
       "    <tr>\n",
       "      <th>8</th>\n",
       "      <td>28.62</td>\n",
       "      <td>New Super Mario Bros. Wii</td>\n",
       "    </tr>\n",
       "    <tr>\n",
       "      <th>9</th>\n",
       "      <td>28.31</td>\n",
       "      <td>Duck Hunt</td>\n",
       "    </tr>\n",
       "    <tr>\n",
       "      <th>10</th>\n",
       "      <td>24.76</td>\n",
       "      <td>Nintendogs</td>\n",
       "    </tr>\n",
       "    <tr>\n",
       "      <th>11</th>\n",
       "      <td>23.42</td>\n",
       "      <td>Mario Kart DS</td>\n",
       "    </tr>\n",
       "    <tr>\n",
       "      <th>12</th>\n",
       "      <td>23.10</td>\n",
       "      <td>Pokemon Gold/Pokemon Silver</td>\n",
       "    </tr>\n",
       "    <tr>\n",
       "      <th>13</th>\n",
       "      <td>22.72</td>\n",
       "      <td>Wii Fit</td>\n",
       "    </tr>\n",
       "    <tr>\n",
       "      <th>14</th>\n",
       "      <td>22.00</td>\n",
       "      <td>Wii Fit Plus</td>\n",
       "    </tr>\n",
       "    <tr>\n",
       "      <th>15</th>\n",
       "      <td>21.82</td>\n",
       "      <td>Kinect Adventures!</td>\n",
       "    </tr>\n",
       "    <tr>\n",
       "      <th>16</th>\n",
       "      <td>21.40</td>\n",
       "      <td>Grand Theft Auto V</td>\n",
       "    </tr>\n",
       "    <tr>\n",
       "      <th>17</th>\n",
       "      <td>20.81</td>\n",
       "      <td>Grand Theft Auto: San Andreas</td>\n",
       "    </tr>\n",
       "    <tr>\n",
       "      <th>18</th>\n",
       "      <td>20.61</td>\n",
       "      <td>Super Mario World</td>\n",
       "    </tr>\n",
       "    <tr>\n",
       "      <th>19</th>\n",
       "      <td>20.22</td>\n",
       "      <td>Brain Age: Train Your Brain in Minutes a Day</td>\n",
       "    </tr>\n",
       "  </tbody>\n",
       "</table>\n",
       "</div>"
      ],
      "text/plain": [
       "    Global_Sales                                          Name\n",
       "0          82.74                                    Wii Sports\n",
       "1          40.24                             Super Mario Bros.\n",
       "2          35.82                                Mario Kart Wii\n",
       "3          33.00                             Wii Sports Resort\n",
       "4          31.37                      Pokemon Red/Pokemon Blue\n",
       "5          30.26                                        Tetris\n",
       "6          30.01                         New Super Mario Bros.\n",
       "7          29.02                                      Wii Play\n",
       "8          28.62                     New Super Mario Bros. Wii\n",
       "9          28.31                                     Duck Hunt\n",
       "10         24.76                                    Nintendogs\n",
       "11         23.42                                 Mario Kart DS\n",
       "12         23.10                   Pokemon Gold/Pokemon Silver\n",
       "13         22.72                                       Wii Fit\n",
       "14         22.00                                  Wii Fit Plus\n",
       "15         21.82                            Kinect Adventures!\n",
       "16         21.40                            Grand Theft Auto V\n",
       "17         20.81                 Grand Theft Auto: San Andreas\n",
       "18         20.61                             Super Mario World\n",
       "19         20.22  Brain Age: Train Your Brain in Minutes a Day"
      ]
     },
     "execution_count": 37,
     "metadata": {},
     "output_type": "execute_result"
    }
   ],
   "source": [
    "vg[['Global_Sales', 'Name']].sort_values('Global_Sales', ascending = False).head(20)"
   ]
  },
  {
   "cell_type": "markdown",
   "metadata": {},
   "source": [
    "5. For North American video game sales, what’s the median?"
   ]
  },
  {
   "cell_type": "code",
   "execution_count": 38,
   "metadata": {},
   "outputs": [
    {
     "name": "stdout",
     "output_type": "stream",
     "text": [
      "      Rank                                               Name Platform  \\\n",
      "3885  3887                        International Track & Field       PS   \n",
      "6388  6390                   Scooby-Doo! and the Spooky Swamp      PS2   \n",
      "2067  2069  Winning Eleven: Pro Evolution Soccer 2007 (All...     X360   \n",
      "7698  7700                                Shiren the Wanderer      Wii   \n",
      "5715  5717                               Bust-A-Move Universe      3DS   \n",
      "\n",
      "        Year         Genre                               Publisher  NA_Sales  \\\n",
      "3885  1996.0        Sports            Konami Digital Entertainment      0.08   \n",
      "6388  2010.0        Action  Warner Bros. Interactive Entertainment      0.08   \n",
      "2067  2006.0        Sports            Konami Digital Entertainment      0.08   \n",
      "7698  2008.0  Role-Playing                                    Sega      0.08   \n",
      "5715  2011.0        Puzzle                             Square Enix      0.08   \n",
      "\n",
      "      EU_Sales  JP_Sales  Other_Sales  Global_Sales  \n",
      "3885      0.05      0.35         0.03          0.51  \n",
      "6388      0.11      0.00         0.08          0.27  \n",
      "2067      0.90      0.02         0.00          1.00  \n",
      "7698      0.00      0.11         0.01          0.20  \n",
      "5715      0.15      0.06         0.03          0.31  \n",
      "        Rank                              Name Platform    Year         Genre  \\\n",
      "8808    8810  Jikkyou Powerful Pro Yakyuu 2012      PSP  2012.0        Action   \n",
      "8799    8801          Theatrhythm Dragon Quest      3DS  2015.0          Misc   \n",
      "8795    8797               Countdown: The Game       DS  2009.0        Puzzle   \n",
      "13576  13578  Kanuchi: Shiroki Tsubasa no Shou      PS2  2008.0     Adventure   \n",
      "5816    5818                     RPG Tsukuru 2     SNES  1996.0  Role-Playing   \n",
      "\n",
      "                          Publisher  NA_Sales  EU_Sales  JP_Sales  \\\n",
      "8808   Konami Digital Entertainment       0.0      0.00      0.15   \n",
      "8799                    Square Enix       0.0      0.00      0.15   \n",
      "8795                      Mindscape       0.0      0.14      0.00   \n",
      "13576                  Idea Factory       0.0      0.00      0.04   \n",
      "5816            ASCII Entertainment       0.0      0.00      0.31   \n",
      "\n",
      "       Other_Sales  Global_Sales  \n",
      "8808          0.00          0.15  \n",
      "8799          0.00          0.15  \n",
      "8795          0.01          0.15  \n",
      "13576         0.00          0.04  \n",
      "5816          0.00          0.31  \n"
     ]
    },
    {
     "name": "stderr",
     "output_type": "stream",
     "text": [
      "/tmp/ipykernel_52530/2133916044.py:1: FutureWarning: Dropping of nuisance columns in DataFrame reductions (with 'numeric_only=None') is deprecated; in a future version this will raise TypeError.  Select only valid columns before calling the reduction.\n",
      "  NA_sales = vg.median()['NA_Sales']\n",
      "/tmp/ipykernel_52530/2133916044.py:3: UserWarning: Boolean Series key will be reindexed to match DataFrame index.\n",
      "  bottom =vg.sort_values('NA_Sales', ascending = False)[vg['NA_Sales'] <= NA_sales].tail(5)\n",
      "/tmp/ipykernel_52530/2133916044.py:4: UserWarning: Boolean Series key will be reindexed to match DataFrame index.\n",
      "  top = vg.sort_values('NA_Sales', ascending = False)[vg['NA_Sales'] >= NA_sales].tail(5)\n"
     ]
    }
   ],
   "source": [
    "NA_sales = vg.median()['NA_Sales']\n",
    "\n",
    "bottom =vg.sort_values('NA_Sales', ascending = False)[vg['NA_Sales'] <= NA_sales].tail(5)\n",
    "top = vg.sort_values('NA_Sales', ascending = False)[vg['NA_Sales'] >= NA_sales].tail(5)\n",
    "print(top)\n",
    "print(bottom)"
   ]
  },
  {
   "cell_type": "markdown",
   "metadata": {},
   "source": [
    "6. For the top-selling game of all time, how many standard deviations above/below the mean are its sales for North America?"
   ]
  },
  {
   "cell_type": "code",
   "execution_count": 39,
   "metadata": {},
   "outputs": [
    {
     "data": {
      "text/plain": [
       "0    50.803064\n",
       "Name: NA_Sales, dtype: float64"
      ]
     },
     "execution_count": 39,
     "metadata": {},
     "output_type": "execute_result"
    }
   ],
   "source": [
    "top_selling_NA = vg[vg['Name'] == 'Wii Sports']['NA_Sales']\n",
    "mean_NA = vg['NA_Sales'].mean()\n",
    "std_NA = vg['NA_Sales'].std()\n",
    "number_of_stds = mean_NA + (top_selling_NA - mean_NA) * std_NA\n",
    "top_selling_NA/std_NA"
   ]
  },
  {
   "cell_type": "markdown",
   "metadata": {},
   "source": [
    "7. The Nintendo Wii seems to have outdone itself with games. How does its average number of sales compare with all of the other platforms?"
   ]
  },
  {
   "cell_type": "code",
   "execution_count": 40,
   "metadata": {},
   "outputs": [
    {
     "data": {
      "text/plain": [
       "Platform\n",
       "2600    0.517673\n",
       "3DO     0.033333\n",
       "3DS     0.193518\n",
       "DC      0.164822\n",
       "DS      0.140811\n",
       "GB      0.891126\n",
       "GBA     0.209740\n",
       "GC      0.184848\n",
       "GEN     0.908810\n",
       "GG      0.040000\n",
       "N64     0.286545\n",
       "NES     1.494849\n",
       "NG      0.063000\n",
       "PC      0.173105\n",
       "PCFX    0.030000\n",
       "PS      0.329174\n",
       "PS2     0.258122\n",
       "PS3     0.314658\n",
       "PS4     0.392761\n",
       "PSP     0.124085\n",
       "PSV     0.130871\n",
       "SAT     0.136042\n",
       "SCD     0.311667\n",
       "SNES    0.413558\n",
       "TG16    0.080000\n",
       "WS      0.272500\n",
       "Wii     0.267569\n",
       "WiiU    0.219399\n",
       "X360    0.308434\n",
       "XB      0.144125\n",
       "XOne    0.291455\n",
       "dtype: float64"
      ]
     },
     "execution_count": 40,
     "metadata": {},
     "output_type": "execute_result"
    }
   ],
   "source": [
    "#vg.groupby(['Publisher', 'Platform'])['Global_Sales'].mean()[vg['Publisher'] ==\"Nintendo\"]\n",
    "vg.pivot_table(values=\"Global_Sales\", index=\"Publisher\", columns='Platform').mean()"
   ]
  },
  {
   "cell_type": "markdown",
   "metadata": {},
   "source": [
    "8. Which year shows the most global sales?"
   ]
  },
  {
   "cell_type": "code",
   "execution_count": 41,
   "metadata": {},
   "outputs": [
    {
     "data": {
      "text/plain": [
       "Year\n",
       "1980.0       9\n",
       "1981.0      46\n",
       "1982.0      36\n",
       "1983.0      17\n",
       "1984.0      14\n",
       "1985.0      14\n",
       "1986.0      21\n",
       "1987.0      16\n",
       "1988.0      15\n",
       "1989.0      17\n",
       "1990.0      16\n",
       "1991.0      41\n",
       "1992.0      43\n",
       "1993.0      60\n",
       "1994.0     121\n",
       "1995.0     219\n",
       "1996.0     263\n",
       "1997.0     289\n",
       "1998.0     379\n",
       "1999.0     338\n",
       "2000.0     349\n",
       "2001.0     482\n",
       "2002.0     829\n",
       "2003.0     775\n",
       "2004.0     763\n",
       "2005.0     941\n",
       "2006.0    1008\n",
       "2007.0    1202\n",
       "2008.0    1428\n",
       "2009.0    1431\n",
       "2010.0    1259\n",
       "2011.0    1139\n",
       "2012.0     657\n",
       "2013.0     546\n",
       "2014.0     582\n",
       "2015.0     614\n",
       "2016.0     344\n",
       "2017.0       3\n",
       "2020.0       1\n",
       "Name: Global_Sales, dtype: int64"
      ]
     },
     "execution_count": 41,
     "metadata": {},
     "output_type": "execute_result"
    }
   ],
   "source": [
    "vg.groupby(['Year'])['Global_Sales'].count()"
   ]
  },
  {
   "cell_type": "markdown",
   "metadata": {},
   "source": [
    "9. Which region tends to buy the most?"
   ]
  },
  {
   "cell_type": "code",
   "execution_count": 42,
   "metadata": {},
   "outputs": [
    {
     "data": {
      "text/plain": [
       "NA_Sales    4392.95\n",
       "EU_Sales    2434.13\n",
       "JP_Sales    1291.02\n",
       "dtype: float64"
      ]
     },
     "execution_count": 42,
     "metadata": {},
     "output_type": "execute_result"
    }
   ],
   "source": [
    "vg[['NA_Sales', 'EU_Sales', 'JP_Sales']].sum()"
   ]
  },
  {
   "cell_type": "markdown",
   "metadata": {},
   "source": [
    "10. Sort games by sales."
   ]
  },
  {
   "cell_type": "code",
   "execution_count": 43,
   "metadata": {},
   "outputs": [
    {
     "data": {
      "text/html": [
       "<div>\n",
       "<style scoped>\n",
       "    .dataframe tbody tr th:only-of-type {\n",
       "        vertical-align: middle;\n",
       "    }\n",
       "\n",
       "    .dataframe tbody tr th {\n",
       "        vertical-align: top;\n",
       "    }\n",
       "\n",
       "    .dataframe thead th {\n",
       "        text-align: right;\n",
       "    }\n",
       "</style>\n",
       "<table border=\"1\" class=\"dataframe\">\n",
       "  <thead>\n",
       "    <tr style=\"text-align: right;\">\n",
       "      <th></th>\n",
       "      <th>Global_Sales</th>\n",
       "    </tr>\n",
       "    <tr>\n",
       "      <th>Name</th>\n",
       "      <th></th>\n",
       "    </tr>\n",
       "  </thead>\n",
       "  <tbody>\n",
       "    <tr>\n",
       "      <th>Wii Sports</th>\n",
       "      <td>82.74</td>\n",
       "    </tr>\n",
       "    <tr>\n",
       "      <th>Mario Kart Wii</th>\n",
       "      <td>35.82</td>\n",
       "    </tr>\n",
       "    <tr>\n",
       "      <th>Wii Sports Resort</th>\n",
       "      <td>33.00</td>\n",
       "    </tr>\n",
       "    <tr>\n",
       "      <th>Pokemon Red/Pokemon Blue</th>\n",
       "      <td>31.37</td>\n",
       "    </tr>\n",
       "    <tr>\n",
       "      <th>New Super Mario Bros.</th>\n",
       "      <td>30.01</td>\n",
       "    </tr>\n",
       "    <tr>\n",
       "      <th>...</th>\n",
       "      <td>...</td>\n",
       "    </tr>\n",
       "    <tr>\n",
       "      <th>Goku Makaimura Kai</th>\n",
       "      <td>0.01</td>\n",
       "    </tr>\n",
       "    <tr>\n",
       "      <th>Blitzkrieg 2 Anthology</th>\n",
       "      <td>0.01</td>\n",
       "    </tr>\n",
       "    <tr>\n",
       "      <th>Carmageddon 64</th>\n",
       "      <td>0.01</td>\n",
       "    </tr>\n",
       "    <tr>\n",
       "      <th>Carmageddon: Max Damage</th>\n",
       "      <td>0.01</td>\n",
       "    </tr>\n",
       "    <tr>\n",
       "      <th>Pilot Academy</th>\n",
       "      <td>0.01</td>\n",
       "    </tr>\n",
       "  </tbody>\n",
       "</table>\n",
       "<p>11493 rows × 1 columns</p>\n",
       "</div>"
      ],
      "text/plain": [
       "                          Global_Sales\n",
       "Name                                  \n",
       "Wii Sports                       82.74\n",
       "Mario Kart Wii                   35.82\n",
       "Wii Sports Resort                33.00\n",
       "Pokemon Red/Pokemon Blue         31.37\n",
       "New Super Mario Bros.            30.01\n",
       "...                                ...\n",
       "Goku Makaimura Kai                0.01\n",
       "Blitzkrieg 2 Anthology            0.01\n",
       "Carmageddon 64                    0.01\n",
       "Carmageddon: Max Damage           0.01\n",
       "Pilot Academy                     0.01\n",
       "\n",
       "[11493 rows x 1 columns]"
      ]
     },
     "execution_count": 43,
     "metadata": {},
     "output_type": "execute_result"
    }
   ],
   "source": [
    "vg.pivot_table(values=\"Global_Sales\", index=\"Name\").sort_values(\"Global_Sales\", ascending = False)"
   ]
  }
 ],
 "metadata": {
  "interpreter": {
   "hash": "e72419b0c3c3cde3cb802e2b7d338140366ade0beb10dfde1f98af1898b55e75"
  },
  "kernelspec": {
   "display_name": "Python 3.9.5 64-bit ('.venv': poetry)",
   "name": "python3"
  },
  "language_info": {
   "codemirror_mode": {
    "name": "ipython",
    "version": 3
   },
   "file_extension": ".py",
   "mimetype": "text/x-python",
   "name": "python",
   "nbconvert_exporter": "python",
   "pygments_lexer": "ipython3",
   "version": "3.9.5"
  },
  "orig_nbformat": 4
 },
 "nbformat": 4,
 "nbformat_minor": 2
}
